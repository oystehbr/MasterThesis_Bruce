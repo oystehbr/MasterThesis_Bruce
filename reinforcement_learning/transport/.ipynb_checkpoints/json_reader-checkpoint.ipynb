{
 "cells": [
  {
   "cell_type": "code",
   "execution_count": 19,
   "metadata": {},
   "outputs": [
    {
     "data": {
      "text/plain": [
       "'/Users/oysteinbruce/Documents/GitHub/SINTEF/other/ReinforcementLearning/transport'"
      ]
     },
     "execution_count": 19,
     "metadata": {},
     "output_type": "execute_result"
    }
   ],
   "source": [
    "import os\n",
    "os.getcwd()"
   ]
  },
  {
   "cell_type": "code",
   "execution_count": 20,
   "metadata": {},
   "outputs": [],
   "source": [
    "import json\n",
    "\n",
    "with open('/Users/oysteinbruce/Documents/GitHub/SINTEF/other/ReinforcementLearning/transport/data/mass_transport_problemWithZCoordinates.json') as json_file:\n",
    "    data = json.load(json_file)\n",
    "    "
   ]
  },
  {
   "cell_type": "code",
   "execution_count": 21,
   "metadata": {},
   "outputs": [
    {
     "data": {
      "text/plain": [
       "dict_keys(['StartTime', 'StopTime', 'Loaders', 'Dumpers', 'MassTransportationJobs', 'LockedActions', 'SpatialGraphContainer'])"
      ]
     },
     "execution_count": 21,
     "metadata": {},
     "output_type": "execute_result"
    }
   ],
   "source": [
    "data.keys()"
   ]
  },
  {
   "cell_type": "code",
   "execution_count": 22,
   "metadata": {},
   "outputs": [],
   "source": [
    "start_time = data['StartTime']\n",
    "stop_time = data['StopTime']\n",
    "loaders = data['Loaders']   # loader_id, loading_rate, Mass Independent Loading Time\n",
    "dumpers = data['Dumpers']   # dumping_id, unloadingRate, AverageSpeed, StartCoordinate- find closest node, Capacity\n",
    "mass_transportation_jobs = data['MassTransportationJobs']\n",
    "locked_actions = data['LockedActions']\n",
    "spatial_graph_container = data['SpatialGraphContainer']"
   ]
  },
  {
   "cell_type": "code",
   "execution_count": 23,
   "metadata": {},
   "outputs": [
    {
     "name": "stdout",
     "output_type": "stream",
     "text": [
      "2022-06-01T06:00:00\n",
      "2022-06-01T14:00:00\n"
     ]
    }
   ],
   "source": [
    "print(start_time)\n",
    "print(stop_time)"
   ]
  },
  {
   "cell_type": "code",
   "execution_count": 24,
   "metadata": {},
   "outputs": [
    {
     "data": {
      "text/plain": [
       "[{'Id': 'CAT 325 (3251)',\n",
       "  'StartTime': '2022-06-01T06:00:00',\n",
       "  'LoadingRate': 165,\n",
       "  'MassIndependentLoadingTime': '0:00:30',\n",
       "  'AverageSpeed': 0,\n",
       "  'PositionAccuracy': 2},\n",
       " {'Id': 'Cat 352 (0249)',\n",
       "  'StartTime': '2022-06-01T06:00:00',\n",
       "  'LoadingRate': 165,\n",
       "  'MassIndependentLoadingTime': '0:00:30',\n",
       "  'AverageSpeed': 0,\n",
       "  'PositionAccuracy': 2},\n",
       " {'Id': 'Cat 352 (4089)',\n",
       "  'StartTime': '2022-06-01T06:00:00',\n",
       "  'LoadingRate': 165,\n",
       "  'MassIndependentLoadingTime': '0:00:30',\n",
       "  'AverageSpeed': 0,\n",
       "  'PositionAccuracy': 2},\n",
       " {'Id': 'Cat 352F (0250)',\n",
       "  'StartTime': '2022-06-01T06:00:00',\n",
       "  'LoadingRate': 165,\n",
       "  'MassIndependentLoadingTime': '0:00:30',\n",
       "  'AverageSpeed': 0,\n",
       "  'PositionAccuracy': 2},\n",
       " {'Id': 'Cat 950 (4062)',\n",
       "  'StartTime': '2022-06-01T06:00:00',\n",
       "  'LoadingRate': 165,\n",
       "  'MassIndependentLoadingTime': '0:00:30',\n",
       "  'AverageSpeed': 0,\n",
       "  'PositionAccuracy': 2},\n",
       " {'Id': 'Hitachi 300 MD (3244)',\n",
       "  'StartTime': '2022-06-01T06:00:00',\n",
       "  'LoadingRate': 165,\n",
       "  'MassIndependentLoadingTime': '0:00:30',\n",
       "  'AverageSpeed': 0,\n",
       "  'PositionAccuracy': 2},\n",
       " {'Id': 'Liebherr R924 (4153)',\n",
       "  'StartTime': '2022-06-01T06:00:00',\n",
       "  'LoadingRate': 165,\n",
       "  'MassIndependentLoadingTime': '0:00:30',\n",
       "  'AverageSpeed': 0,\n",
       "  'PositionAccuracy': 2}]"
      ]
     },
     "execution_count": 24,
     "metadata": {},
     "output_type": "execute_result"
    }
   ],
   "source": [
    "loaders"
   ]
  },
  {
   "cell_type": "code",
   "execution_count": 25,
   "metadata": {},
   "outputs": [
    {
     "data": {
      "text/plain": [
       "[{'Id': 'MAN 560 ( YK 23597 )',\n",
       "  'Capacity': 300,\n",
       "  'StartCoordinate': {'X': 10.397223706762343, 'Y': 59.94570004996791, 'Z': 0},\n",
       "  'StartTime': '2022-06-01T06:00:00',\n",
       "  'UnloadingRate': 10,\n",
       "  'MassIndependentUnloadingRate': '0:00:00',\n",
       "  'AverageSpeed': 16,\n",
       "  'PositionAccuracy': 2},\n",
       " {'Id': 'MAN TGS (ZH47961)',\n",
       "  'Capacity': 300,\n",
       "  'StartCoordinate': {'X': 10.327995844766003,\n",
       "   'Y': 59.976321624456055,\n",
       "   'Z': 0},\n",
       "  'StartTime': '2022-06-01T06:00:00',\n",
       "  'UnloadingRate': 10,\n",
       "  'MassIndependentUnloadingRate': '0:00:00',\n",
       "  'AverageSpeed': 16,\n",
       "  'PositionAccuracy': 2},\n",
       " {'Id': 'MAN TGS (ZH50030) ZH50030 ',\n",
       "  'Capacity': 300,\n",
       "  'StartCoordinate': {'X': 10.328328411319047,\n",
       "   'Y': 59.976499243323374,\n",
       "   'Z': 0},\n",
       "  'StartTime': '2022-06-01T06:00:00',\n",
       "  'UnloadingRate': 10,\n",
       "  'MassIndependentUnloadingRate': '0:00:00',\n",
       "  'AverageSpeed': 16,\n",
       "  'PositionAccuracy': 2},\n",
       " {'Id': 'Man (KB50623)',\n",
       "  'Capacity': 300,\n",
       "  'StartCoordinate': {'X': 10.39712812816988, 'Y': 59.94556367382834, 'Z': 0},\n",
       "  'StartTime': '2022-06-01T06:00:00',\n",
       "  'UnloadingRate': 10,\n",
       "  'MassIndependentUnloadingRate': '0:00:00',\n",
       "  'AverageSpeed': 16,\n",
       "  'PositionAccuracy': 2},\n",
       " {'Id': 'Man (KB50624)',\n",
       "  'Capacity': 300,\n",
       "  'StartCoordinate': {'X': 10.397645675903032, 'Y': 59.94549016765342, 'Z': 0},\n",
       "  'StartTime': '2022-06-01T06:00:00',\n",
       "  'UnloadingRate': 10,\n",
       "  'MassIndependentUnloadingRate': '0:00:00',\n",
       "  'AverageSpeed': 16,\n",
       "  'PositionAccuracy': 2},\n",
       " {'Id': 'Mercedes (HB85329) 2760',\n",
       "  'Capacity': 300,\n",
       "  'StartCoordinate': {'X': 10.397682652655108,\n",
       "   'Y': 59.945415639463015,\n",
       "   'Z': 0},\n",
       "  'StartTime': '2022-06-01T06:00:00',\n",
       "  'UnloadingRate': 10,\n",
       "  'MassIndependentUnloadingRate': '0:00:00',\n",
       "  'AverageSpeed': 16,\n",
       "  'PositionAccuracy': 2},\n",
       " {'Id': 'Mercedes (SD89782) 2762',\n",
       "  'Capacity': 300,\n",
       "  'StartCoordinate': {'X': 10.419603259210758,\n",
       "   'Y': 59.939882930916646,\n",
       "   'Z': 0},\n",
       "  'StartTime': '2022-06-01T06:00:00',\n",
       "  'UnloadingRate': 10,\n",
       "  'MassIndependentUnloadingRate': '0:00:00',\n",
       "  'AverageSpeed': 16,\n",
       "  'PositionAccuracy': 2},\n",
       " {'Id': 'Mercedes (SD89784)',\n",
       "  'Capacity': 300,\n",
       "  'StartCoordinate': {'X': 10.420140208161012, 'Y': 59.93968390073773, 'Z': 0},\n",
       "  'StartTime': '2022-06-01T06:00:00',\n",
       "  'UnloadingRate': 10,\n",
       "  'MassIndependentUnloadingRate': '0:00:00',\n",
       "  'AverageSpeed': 16,\n",
       "  'PositionAccuracy': 2},\n",
       " {'Id': 'Mercedes (SD89786) 2814',\n",
       "  'Capacity': 300,\n",
       "  'StartCoordinate': {'X': 10.421542509185192, 'Y': 59.9395773111531, 'Z': 0},\n",
       "  'StartTime': '2022-06-01T06:00:00',\n",
       "  'UnloadingRate': 10,\n",
       "  'MassIndependentUnloadingRate': '0:00:00',\n",
       "  'AverageSpeed': 16,\n",
       "  'PositionAccuracy': 2},\n",
       " {'Id': 'Mercedes Arocs (DR67820)',\n",
       "  'Capacity': 300,\n",
       "  'StartCoordinate': {'X': 10.327949370669764, 'Y': 59.97641195951897, 'Z': 0},\n",
       "  'StartTime': '2022-06-01T06:00:00',\n",
       "  'UnloadingRate': 10,\n",
       "  'MassIndependentUnloadingRate': '0:00:00',\n",
       "  'AverageSpeed': 16,\n",
       "  'PositionAccuracy': 2},\n",
       " {'Id': 'SCANIA R 580 (UC 30686)',\n",
       "  'Capacity': 300,\n",
       "  'StartCoordinate': {'X': 10.397101766721354, 'Y': 59.94556456351645, 'Z': 0},\n",
       "  'StartTime': '2022-06-01T06:00:00',\n",
       "  'UnloadingRate': 10,\n",
       "  'MassIndependentUnloadingRate': '0:00:00',\n",
       "  'AverageSpeed': 16,\n",
       "  'PositionAccuracy': 2},\n",
       " {'Id': 'Scania (CV88447)',\n",
       "  'Capacity': 300,\n",
       "  'StartCoordinate': {'X': 10.397329237193613, 'Y': 59.94567641684312, 'Z': 0},\n",
       "  'StartTime': '2022-06-01T06:00:00',\n",
       "  'UnloadingRate': 10,\n",
       "  'MassIndependentUnloadingRate': '0:00:00',\n",
       "  'AverageSpeed': 16,\n",
       "  'PositionAccuracy': 2},\n",
       " {'Id': 'Scania R580 (AJ87870)',\n",
       "  'Capacity': 300,\n",
       "  'StartCoordinate': {'X': 10.328411841774665, 'Y': 59.9765449064411, 'Z': 0},\n",
       "  'StartTime': '2022-06-01T06:00:00',\n",
       "  'UnloadingRate': 10,\n",
       "  'MassIndependentUnloadingRate': '0:00:00',\n",
       "  'AverageSpeed': 16,\n",
       "  'PositionAccuracy': 2},\n",
       " {'Id': 'Scania R580 (AJ91132)',\n",
       "  'Capacity': 300,\n",
       "  'StartCoordinate': {'X': 10.328345966023592, 'Y': 59.97636244591699, 'Z': 0},\n",
       "  'StartTime': '2022-06-01T06:00:00',\n",
       "  'UnloadingRate': 10,\n",
       "  'MassIndependentUnloadingRate': '0:00:00',\n",
       "  'AverageSpeed': 16,\n",
       "  'PositionAccuracy': 2},\n",
       " {'Id': 'Scania R580 (CV 87356)',\n",
       "  'Capacity': 300,\n",
       "  'StartCoordinate': {'X': 10.397216444767453,\n",
       "   'Y': 59.945663313598985,\n",
       "   'Z': 0},\n",
       "  'StartTime': '2022-06-01T06:00:00',\n",
       "  'UnloadingRate': 10,\n",
       "  'MassIndependentUnloadingRate': '0:00:00',\n",
       "  'AverageSpeed': 16,\n",
       "  'PositionAccuracy': 2},\n",
       " {'Id': 'Scania R580 (RA 46922 JF Maskin)',\n",
       "  'Capacity': 300,\n",
       "  'StartCoordinate': {'X': 10.321301541963434, 'Y': 59.97562513603517, 'Z': 0},\n",
       "  'StartTime': '2022-06-01T06:00:00',\n",
       "  'UnloadingRate': 10,\n",
       "  'MassIndependentUnloadingRate': '0:00:00',\n",
       "  'AverageSpeed': 16,\n",
       "  'PositionAccuracy': 2},\n",
       " {'Id': 'Volvo (UN37557)',\n",
       "  'Capacity': 300,\n",
       "  'StartCoordinate': {'X': 10.396887139284125, 'Y': 59.94560130901596, 'Z': 0},\n",
       "  'StartTime': '2022-06-01T06:00:00',\n",
       "  'UnloadingRate': 10,\n",
       "  'MassIndependentUnloadingRate': '0:00:00',\n",
       "  'AverageSpeed': 16,\n",
       "  'PositionAccuracy': 2},\n",
       " {'Id': 'Volvo FH540 (FT57228)',\n",
       "  'Capacity': 300,\n",
       "  'StartCoordinate': {'X': 10.397453130703, 'Y': 59.94570102676348, 'Z': 0},\n",
       "  'StartTime': '2022-06-01T06:00:00',\n",
       "  'UnloadingRate': 10,\n",
       "  'MassIndependentUnloadingRate': '0:00:00',\n",
       "  'AverageSpeed': 16,\n",
       "  'PositionAccuracy': 2},\n",
       " {'Id': 'Volvo FH540 (TF 30013)',\n",
       "  'Capacity': 300,\n",
       "  'StartCoordinate': {'X': 10.328229144396657, 'Y': 59.97648111958587, 'Z': 0},\n",
       "  'StartTime': '2022-06-01T06:00:00',\n",
       "  'UnloadingRate': 10,\n",
       "  'MassIndependentUnloadingRate': '0:00:00',\n",
       "  'AverageSpeed': 16,\n",
       "  'PositionAccuracy': 2}]"
      ]
     },
     "execution_count": 25,
     "metadata": {},
     "output_type": "execute_result"
    }
   ],
   "source": [
    "# Id, unloadingRate, AverageSpeed, StartCoordinate, Capacity\n",
    "dumpers"
   ]
  },
  {
   "cell_type": "code",
   "execution_count": 26,
   "metadata": {},
   "outputs": [
    {
     "data": {
      "text/plain": [
       "[{'Id': '100',\n",
       "  'LoadPositionId': '43',\n",
       "  'DumpPositionId': '38',\n",
       "  'LoaderId': 'CAT 325 (3251)',\n",
       "  'TotalVolume': 10000},\n",
       " {'Id': '100',\n",
       "  'LoadPositionId': '44',\n",
       "  'DumpPositionId': '38',\n",
       "  'LoaderId': 'Cat 352 (0249)',\n",
       "  'TotalVolume': 10000},\n",
       " {'Id': '100',\n",
       "  'LoadPositionId': '45',\n",
       "  'DumpPositionId': '38',\n",
       "  'LoaderId': 'Cat 352 (4089)',\n",
       "  'TotalVolume': 10000},\n",
       " {'Id': '100',\n",
       "  'LoadPositionId': '46',\n",
       "  'DumpPositionId': '38',\n",
       "  'LoaderId': 'Cat 352F (0250)',\n",
       "  'TotalVolume': 10000},\n",
       " {'Id': '100',\n",
       "  'LoadPositionId': '47',\n",
       "  'DumpPositionId': '38',\n",
       "  'LoaderId': 'Cat 950 (4062)',\n",
       "  'TotalVolume': 10000},\n",
       " {'Id': '100',\n",
       "  'LoadPositionId': '48',\n",
       "  'DumpPositionId': '38',\n",
       "  'LoaderId': 'Hitachi 300 MD (3244)',\n",
       "  'TotalVolume': 10000}]"
      ]
     },
     "execution_count": 26,
     "metadata": {},
     "output_type": "execute_result"
    }
   ],
   "source": [
    "# Telling where the dumping/ loading nodes are, etc. \n",
    "mass_transportation_jobs"
   ]
  },
  {
   "cell_type": "code",
   "execution_count": 27,
   "metadata": {},
   "outputs": [
    {
     "data": {
      "text/plain": [
       "[]"
      ]
     },
     "execution_count": 27,
     "metadata": {},
     "output_type": "execute_result"
    }
   ],
   "source": [
    "locked_actions"
   ]
  },
  {
   "cell_type": "code",
   "execution_count": 28,
   "metadata": {},
   "outputs": [
    {
     "data": {
      "text/plain": [
       "dict_keys(['Nodes', 'Edges', 'id', 'coordinate_system'])"
      ]
     },
     "execution_count": 28,
     "metadata": {},
     "output_type": "execute_result"
    }
   ],
   "source": [
    "spatial_graph_container['Network'].keys()"
   ]
  },
  {
   "cell_type": "code",
   "execution_count": 29,
   "metadata": {},
   "outputs": [],
   "source": [
    "nodes = spatial_graph_container['Network']['Nodes']\n",
    "edges = spatial_graph_container['Network']['Edges']\n",
    "id = spatial_graph_container['Network']['id']\n",
    "coordinate_system = spatial_graph_container['Network']['coordinate_system']"
   ]
  },
  {
   "cell_type": "code",
   "execution_count": 30,
   "metadata": {},
   "outputs": [
    {
     "name": "stdout",
     "output_type": "stream",
     "text": [
      "MC1Network\n",
      "{'type': 'Cartesian2D', 'origoInLongitudeLatitude': [10.319814913155671, 59.905965472430054]}\n"
     ]
    }
   ],
   "source": [
    "print(id)\n",
    "print(coordinate_system)"
   ]
  },
  {
   "cell_type": "markdown",
   "metadata": {},
   "source": [
    "## Nodes"
   ]
  },
  {
   "cell_type": "code",
   "execution_count": 31,
   "metadata": {},
   "outputs": [
    {
     "data": {
      "text/plain": [
       "[{'id': 0, 'coordinates': [10.3203859034, 59.9745266332, 248.7847027355]},\n",
       " {'id': 1, 'coordinates': [10.3214091821, 59.977148945, 254.5118171474]},\n",
       " {'id': 2, 'coordinates': [10.3209643226, 59.9792042745, 279.7305853969]},\n",
       " {'id': 3, 'coordinates': [10.3233862314, 59.9758511879, 234.4513548409]},\n",
       " {'id': 4, 'coordinates': [10.3242845941, 59.9786217137, 304.3301727102]},\n",
       " {'id': 5, 'coordinates': [10.3248673957, 59.9774377319, 287.3362341489]},\n",
       " {'id': 6, 'coordinates': [10.3259157343, 59.9780660218, 291.0085559104]},\n",
       " {'id': 7, 'coordinates': [10.3272370264, 59.9762177112, 295.2602892571]},\n",
       " {'id': 8, 'coordinates': [10.3264960402, 59.9765242007, 295.6541354456]},\n",
       " {'id': 9, 'coordinates': [10.3286072533, 59.975515442, 294.8880531191]},\n",
       " {'id': 10, 'coordinates': [10.3297769111, 59.9749585852, 297.2612846007]},\n",
       " {'id': 11, 'coordinates': [10.3305461577, 59.9742481164, 299.0749995921]},\n",
       " {'id': 12, 'coordinates': [10.3316675473, 59.9735450905, 296.0562103998]},\n",
       " {'id': 13, 'coordinates': [10.3313717803, 59.9671261665, 196.8442700868]},\n",
       " {'id': 14, 'coordinates': [10.332925794, 59.9739623024, 303.6960087417]},\n",
       " {'id': 15, 'coordinates': [10.3332797776, 59.9729739574, 313.1581760213]},\n",
       " {'id': 16, 'coordinates': [10.3342447782, 59.9736475721, 291.074571924]},\n",
       " {'id': 17, 'coordinates': [10.336549576, 59.9525326639, 233.1858497524]},\n",
       " {'id': 18, 'coordinates': [10.3372648988, 59.9214542654, 145.5592403376]},\n",
       " {'id': 19, 'coordinates': [10.3415533349, 59.9246003454, 171.9696281207]},\n",
       " {'id': 20, 'coordinates': [10.3739686908, 59.9529593546, 262.1959880247]},\n",
       " {'id': 21, 'coordinates': [10.3759219488, 59.9510146766, 256.5637069133]},\n",
       " {'id': 22, 'coordinates': [10.3772577952, 59.952029878, 254.944664122]},\n",
       " {'id': 23, 'coordinates': [10.3774019203, 59.9497860051, 252.4442484409]},\n",
       " {'id': 24, 'coordinates': [10.3790243152, 59.9496141586, 241.8955483845]},\n",
       " {'id': 25, 'coordinates': [10.3839898542, 59.9464315645, 229.0262592177]},\n",
       " {'id': 26, 'coordinates': [10.3846902768, 59.9471073506, 225.9579084943]},\n",
       " {'id': 27, 'coordinates': [10.4019156657, 59.9450464881, 176.8826308808]},\n",
       " {'id': 28, 'coordinates': [10.4196277489, 59.9398113612, 136.4635438708]},\n",
       " {'id': 29, 'coordinates': [10.4199983236, 59.9380534216, 110.6906558135]},\n",
       " {'id': 30, 'coordinates': [10.4222698635, 59.93822058, 111.1534963156]},\n",
       " {'id': 31, 'coordinates': [10.4226943468, 59.9388535509, 115.3434278413]},\n",
       " {'id': 32, 'coordinates': [10.4224441616, 59.9393210925, 123.3749561334]},\n",
       " {'id': 33, 'coordinates': [10.4251228321, 59.9380702433, 97.9863453066]},\n",
       " {'id': 34, 'coordinates': [10.4348269243, 59.9368998358, 102.4517064823]},\n",
       " {'id': 35, 'coordinates': [10.4349438086, 59.9365326662, 100.0964603542]},\n",
       " {'id': 36, 'coordinates': [10.4377726645, 59.931932916, 66.9535609544]},\n",
       " {'id': 37, 'coordinates': [10.4380955959, 59.9321827519, 67.0773760931]},\n",
       " {'id': 38, 'coordinates': [10.3310606021, 59.9744180037, 292.5478785967]},\n",
       " {'id': 39, 'coordinates': [10.3779178893, 59.9495196433, 259.6765605753]},\n",
       " {'id': 40, 'coordinates': [10.3227550727, 59.9766563326, 258.6094993107]},\n",
       " {'id': 41, 'coordinates': [10.3263363827, 59.9755936314, 289.3073495627]},\n",
       " {'id': 42, 'coordinates': [10.3207610437, 59.974824339, 265.7948541492]},\n",
       " {'id': 43, 'coordinates': [10.4201248155, 59.9397063535, 237.7175876106]},\n",
       " {'id': 44, 'coordinates': [10.3970303937, 59.9456082174, 258.2248993305]},\n",
       " {'id': 45, 'coordinates': [10.3282898642, 59.9764396451, 278.9908692826]},\n",
       " {'id': 46, 'coordinates': [10.3761604629, 59.9502161641, 290.5722167248]},\n",
       " {'id': 47, 'coordinates': [10.3772897924, 59.9522697642, 188.3558420769]},\n",
       " {'id': 48, 'coordinates': [10.4225700388, 59.9387540681, 210.2516157869]}]"
      ]
     },
     "execution_count": 31,
     "metadata": {},
     "output_type": "execute_result"
    }
   ],
   "source": [
    "# nodes with id, and coordinates\n",
    "nodes"
   ]
  },
  {
   "cell_type": "code",
   "execution_count": 32,
   "metadata": {},
   "outputs": [
    {
     "data": {
      "text/plain": [
       "dict_keys(['id', 'coordinates', 'description', 'Node1', 'Node2'])"
      ]
     },
     "execution_count": 32,
     "metadata": {},
     "output_type": "execute_result"
    }
   ],
   "source": [
    "edges[0].keys()"
   ]
  },
  {
   "cell_type": "markdown",
   "metadata": {},
   "source": [
    "## Edges"
   ]
  },
  {
   "cell_type": "code",
   "execution_count": 33,
   "metadata": {},
   "outputs": [],
   "source": [
    "edge_id = edges[0]['id']\n",
    "edge_coordinates = edges[0]['coordinates']\n",
    "edge_info = edges[0]['description']\n",
    "edge_node1 = edges[0]['Node1']\n",
    "edge_node2 = edges[0]['Node2']"
   ]
  },
  {
   "cell_type": "code",
   "execution_count": 34,
   "metadata": {},
   "outputs": [
    {
     "name": "stdout",
     "output_type": "stream",
     "text": [
      "e_1\n",
      "{'nodeId': 0}\n",
      "{'nodeId': 1}\n",
      "road between two nodes\n"
     ]
    }
   ],
   "source": [
    "print(edge_id)\n",
    "print(edge_node1)\n",
    "print(edge_node2)\n",
    "print(edge_info) # seens to be 'road between two nodes forall'"
   ]
  },
  {
   "cell_type": "code",
   "execution_count": 35,
   "metadata": {},
   "outputs": [],
   "source": [
    "import road_data_manipulation as rdm\n",
    "import pandas as pd\n",
    "import numpy as np\n",
    "import matplotlib.pyplot as plt"
   ]
  },
  {
   "cell_type": "code",
   "execution_count": 47,
   "metadata": {},
   "outputs": [
    {
     "name": "stdout",
     "output_type": "stream",
     "text": [
      "(59.9745266332, 10.3201712415)\n",
      "{'type': 'Cartesian2D', 'origoInLongitudeLatitude': [10.319814913155671, 59.905965472430054]}\n",
      "(59.905965472430054, 10.319814913155671)\n",
      "(59.9745266332, 10.3201712415)\n"
     ]
    }
   ],
   "source": [
    "lol = edge_coordinates\n",
    "\n",
    "\n",
    "# print(lol[::-1][0])\n",
    "# print(lol[:][-1])\n",
    "lol_pd = pd.DataFrame(lol)\n",
    "lol_pd.columns = ['Longitude', 'Latitude', 'Altitude']\n",
    "\n",
    "origin_ = coordinate_system['origoInLongitudeLatitude']\n",
    "origin2 = (float(origin_[1]), float(origin_[0]))\n",
    "\n",
    "#set names to dataframe at creation?\n",
    "\n",
    "(x, y), proj_info = rdm.latlon_to_xy(lol_pd)\n",
    "\n",
    "origin = rdm.calculate_origin(lol_pd)\n",
    "\n",
    "\n",
    "\n",
    "print(coordinate_system)\n",
    "print(origin2)\n",
    "print(type(origin))"
   ]
  },
  {
   "cell_type": "code",
   "execution_count": 43,
   "metadata": {},
   "outputs": [
    {
     "data": {
      "image/png": "[encoded data removed]",
      "text/plain": [
       "<Figure size 640x480 with 1 Axes>"
      ]
     },
     "metadata": {},
     "output_type": "display_data"
    }
   ],
   "source": [
    "plt.scatter(x, y, c = np.arange(len(x)))\n",
    "plt.show()"
   ]
  },
  {
   "cell_type": "code",
   "execution_count": 38,
   "metadata": {},
   "outputs": [
    {
     "name": "stdout",
     "output_type": "stream",
     "text": [
      "road between two nodes\n",
      "road between two nodes\n",
      "road between two nodes\n",
      "road between two nodes\n",
      "road between two nodes\n",
      "road between two nodes\n",
      "road between two nodes\n",
      "road between two nodes\n",
      "road between two nodes\n",
      "road between two nodes\n",
      "road between two nodes\n",
      "road between two nodes\n",
      "road between two nodes\n",
      "road between two nodes\n",
      "road between two nodes\n",
      "road between two nodes\n",
      "road between two nodes\n",
      "road between two nodes\n",
      "road between two nodes\n",
      "road between two nodes\n",
      "road between two nodes\n",
      "road between two nodes\n",
      "road between two nodes\n",
      "road between two nodes\n",
      "road between two nodes\n",
      "road between two nodes\n",
      "road between two nodes\n",
      "road between two nodes\n",
      "road between two nodes\n",
      "road between two nodes\n",
      "road between two nodes\n",
      "road between two nodes\n",
      "road between two nodes\n",
      "road between two nodes\n",
      "road between two nodes\n",
      "road between two nodes\n",
      "road between two nodes\n",
      "road between two nodes\n",
      "road between two nodes\n",
      "road between two nodes\n",
      "road between two nodes\n",
      "road between two nodes\n",
      "road between two nodes\n",
      "road between two nodes\n",
      "road between two nodes\n",
      "road between two nodes\n",
      "road between two nodes\n",
      "road between two nodes\n",
      "road between two nodes\n",
      "road between two nodes\n",
      "road between two nodes\n",
      "road between two nodes\n",
      "road between two nodes\n",
      "road between two nodes\n",
      "road between two nodes\n",
      "road between two nodes\n",
      "road between two nodes\n",
      "road between two nodes\n",
      "road between two nodes\n",
      "road between two nodes\n",
      "road between two nodes\n",
      "road between two nodes\n",
      "road between two nodes\n",
      "road between two nodes\n",
      "road between two nodes\n",
      "road between two nodes\n",
      "road between two nodes\n",
      "road between two nodes\n",
      "road between two nodes\n",
      "road between two nodes\n",
      "road between two nodes\n",
      "road between two nodes\n",
      "road between two nodes\n"
     ]
    }
   ],
   "source": [
    "# Shows that it is not repetitive\n",
    "for edge in edges:\n",
    "    # print(f\"{edge['Node1']['nodeId']} to {edge['Node2']['nodeId']}\")"
   ]
  },
  {
   "cell_type": "code",
   "execution_count": 33,
   "metadata": {},
   "outputs": [
    {
     "data": {
      "text/plain": [
       "'e_1'"
      ]
     },
     "execution_count": 33,
     "metadata": {},
     "output_type": "execute_result"
    }
   ],
   "source": [
    "edge_id"
   ]
  },
  {
   "cell_type": "code",
   "execution_count": null,
   "metadata": {},
   "outputs": [],
   "source": []
  }
 ],
 "metadata": {
  "kernelspec": {
   "display_name": "Python 3",
   "language": "python",
   "name": "python3"
  },
  "language_info": {
   "codemirror_mode": {
    "name": "ipython",
    "version": 3
   },
   "file_extension": ".py",
   "mimetype": "text/x-python",
   "name": "python",
   "nbconvert_exporter": "python",
   "pygments_lexer": "ipython3",
   "version": "3.8.13"
  },
  "vscode": {
   "interpreter": {
    "hash": "40d3a090f54c6569ab1632332b64b2c03c39dcf918b08424e98f38b5ae0af88f"
   }
  }
 },
 "nbformat": 4,
 "nbformat_minor": 2
}
